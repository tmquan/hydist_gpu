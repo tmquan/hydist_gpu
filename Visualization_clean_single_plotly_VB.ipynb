{
 "cells": [
  {
   "cell_type": "markdown",
   "metadata": {},
   "source": [
    "# Save to numpy data"
   ]
  },
  {
   "cell_type": "code",
   "execution_count": 1,
   "metadata": {},
   "outputs": [
    {
     "data": {
      "application/javascript": [
       "IPython.OutputArea.prototype._should_scroll = function(lines) {\n",
       "    return false;\n",
       "}\n"
      ],
      "text/plain": [
       "<IPython.core.display.Javascript object>"
      ]
     },
     "metadata": {},
     "output_type": "display_data"
    }
   ],
   "source": [
    "%%javascript\n",
    "IPython.OutputArea.prototype._should_scroll = function(lines) {\n",
    "    return false;\n",
    "}"
   ]
  },
  {
   "cell_type": "markdown",
   "metadata": {},
   "source": [
    "# Import neccessary libraries"
   ]
  },
  {
   "cell_type": "code",
   "execution_count": 7,
   "metadata": {},
   "outputs": [
    {
     "name": "stdout",
     "output_type": "stream",
     "text": [
      "3.7.0\n"
     ]
    }
   ],
   "source": [
    "import os\n",
    "import sys\n",
    "import glob\n",
    "import cv2\n",
    "\n",
    "import pandas as pd\n",
    "import numpy as np\n",
    "from natsort import natsorted\n",
    "import shutil\n",
    "\n",
    "# import ipyvolume as ipv\n",
    "\n",
    "# import matplotlib\n",
    "# from scipy.interpolate import griddata\n",
    "# matplotlib.use('TkAgg')\n",
    "# from mpl_toolkits.mplot3d import axes3d\n",
    "# import matplotlib.pyplot as plt\n",
    "# from matplotlib import cm\n",
    "# import matplotlib.colors as colors\n",
    "# from matplotlib.colors import Normalize\n",
    "\n",
    "# %matplotlib notebook \n",
    "\n",
    "import plotly\n",
    "print(plotly.__version__)\n",
    "\n",
    "import plotly.plotly as py\n",
    "import plotly.graph_objs as go\n",
    "import plotly.figure_factory as ff\n"
   ]
  },
  {
   "cell_type": "markdown",
   "metadata": {},
   "source": [
    "# Global setups"
   ]
  },
  {
   "cell_type": "code",
   "execution_count": 8,
   "metadata": {},
   "outputs": [],
   "source": [
    "# Global variables\n",
    "vth_dir = 'data/VB_0519/VTH/'\n",
    "z_dir = 'data/VB_0519/Z/'\n",
    "h_dir = 'data/VB_0519/H/'\n",
    "\n",
    "dimx = 465 + 2\n",
    "dimy = 324 + 2\n",
    "dimt = 1\n",
    "\n",
    "# vth_name = 'vth'+'_'+str(dimt).zfill(4) \\\n",
    "#                 +'_'+str(dimy).zfill(4) \\\n",
    "#                 +'_'+str(dimx).zfill(4)+'.npy'\n",
    "# z_name   =   'z'+'_'+str(dimt).zfill(4) \\\n",
    "#                 +'_'+str(dimy).zfill(4) \\\n",
    "#                 +'_'+str(dimx).zfill(4)+'.npy'\n",
    "# h_name   =   'z'+'_'+str(dimt).zfill(4) \\\n",
    "#                 +'_'+str(dimy).zfill(4) \\\n",
    "#                 +'_'+str(dimx).zfill(4)+'.npy'\n",
    "# print(vth_name)\n",
    "# print(z_name)\n",
    "# print(h_name)\n",
    "\n",
    "vth_files = natsorted(glob.glob(os.path.join(vth_dir, '*.dat')))\n",
    "z_files = natsorted(glob.glob(os.path.join(z_dir, '*.grd')))\n",
    "h_files = natsorted(glob.glob(os.path.join(h_dir, '*.grd')))\n",
    "\n",
    "debug = False\n",
    " "
   ]
  },
  {
   "cell_type": "markdown",
   "metadata": {},
   "source": [
    "# Parse *.dat and *.grd files"
   ]
  },
  {
   "cell_type": "code",
   "execution_count": 9,
   "metadata": {},
   "outputs": [],
   "source": [
    "######################################################################\n",
    "def parse_dat(file_name, verbose=True):\n",
    "    if verbose: print(file_name)\n",
    "    dat_str = np.genfromtxt(file_name, delimiter = '\\t', dtype='unicode')\n",
    "#     if verbose: \n",
    "#         print(dat_str[0])\n",
    "#         print(dat_str[0][0], dat_str[0][1], dat_str[0][2], dat_str[0][3], dat_str[0][4])\n",
    "        \n",
    "    dat = []\n",
    "    for row in dat_str:\n",
    "        num = list(map(float, row))\n",
    "        dat.append(num)\n",
    "#         if verbose and row[3] != '0': \n",
    "#             print(row)\n",
    "#             print(row[0], row[1], row[2], row[3], row[4])\n",
    "    if verbose: \n",
    "        print(row)\n",
    "        print(num)\n",
    "    dat = np.array(dat, dtype=np.float32)\n",
    "    if verbose: print(dat.shape)\n",
    "    return dat\n",
    "\n",
    "######################################################################\n",
    "def parse_grd(file_name, verbose=True):\n",
    "    grd_str = np.genfromtxt(file_name, delimiter = ' ', dtype='unicode')\n",
    "    if verbose: print(grd_str.shape)\n",
    "    if verbose: print(grd_str[:5])\n",
    "    grd = []\n",
    "    for row in grd_str[5:]: # Parse from the line number 5th\n",
    "        grd.append(np.float32(row.split()))\n",
    "    grd = np.array(grd, dtype=np.float32)\n",
    "    if verbose: print(grd.shape)\n",
    "    return grd"
   ]
  },
  {
   "cell_type": "markdown",
   "metadata": {},
   "source": [
    "# Drawing with plotly here"
   ]
  },
  {
   "cell_type": "code",
   "execution_count": 66,
   "metadata": {
    "scrolled": true
   },
   "outputs": [
    {
     "name": "stdout",
     "output_type": "stream",
     "text": [
      "data/VB_0519/VTH/VTH 101h.dat\n",
      "['363600' '465' '324' '0' '0']\n",
      "[363600.0, 465.0, 324.0, 0.0, 0.0]\n",
      "(149872, 5)\n"
     ]
    },
    {
     "data": {
      "text/html": [
       "<iframe id=\"igraph\" scrolling=\"no\" style=\"border:none;\" seamless=\"seamless\" src=\"https://plot.ly/~tmquan/31.embed\" height=\"800px\" width=\"800px\"></iframe>"
      ],
      "text/plain": [
       "<plotly.tools.PlotlyDisplay object>"
      ]
     },
     "execution_count": 66,
     "metadata": {},
     "output_type": "execute_result"
    }
   ],
   "source": [
    "######################################################################\n",
    "# fig = plt.figure(figsize=(10, 10))\n",
    "# ax = fig.gca(projection='3d')\n",
    "\n",
    "\n",
    "shutil.rmtree('result', ignore_errors=True)\n",
    "os.makedirs('result')\n",
    "###################################################################### \n",
    "sample=100\n",
    "for t in range(sample,sample+1):\n",
    "    ######################################################################\n",
    "    # Read the data\n",
    "    vth_data = parse_dat(vth_files[t], verbose=True).astype(np.float32)\n",
    "    \n",
    "\n",
    "    z_data = parse_grd(z_files[t], verbose=debug).astype(np.float32)\n",
    "    h_data = parse_grd(h_files[0], verbose=debug).astype(np.float32)\n",
    "    \n",
    "    # Resize the z and h_data\n",
    "    z_data = cv2.resize(z_data, (dimx, dimy))\n",
    "    h_data = cv2.resize(h_data, (dimx, dimy))\n",
    "    \n",
    "    x_data, y_data = np.meshgrid(range(dimx), range(dimy))\n",
    "    \n",
    "    \n",
    "    ######################################################################\n",
    "    # Calculate the magnitudes and the phases\n",
    "    m_data = np.zeros_like(z_data)\n",
    "    d_data = np.zeros_like(z_data)\n",
    "    \n",
    "    for k in range(vth_data.shape[0]):\n",
    "        m_data[vth_data[k,2].astype(np.int32), \n",
    "               vth_data[k,1].astype(np.int32)] = vth_data[k,3]\n",
    "        d_data[vth_data[k,2].astype(np.int32), \n",
    "               vth_data[k,1].astype(np.int32)] = vth_data[k,4]\n",
    "\n",
    "    # Calculate the u and v components\n",
    "    u_data = m_data*np.cos(d_data * np.pi / 180.)\n",
    "    v_data = m_data*np.sin(d_data * np.pi / 180.)    \n",
    "    b_data = np.zeros_like(d_data) # background or 0\n",
    "    \n",
    "    ######################################################################\n",
    "    \n",
    "\n",
    "# cmap = [‘Blackbody’,\n",
    "# ‘Bluered’,\n",
    "# ‘Blues’,\n",
    "# ‘Earth’,\n",
    "# ‘Electric’,\n",
    "# ‘Greens’,\n",
    "# ‘Greys’,\n",
    "# ‘Hot’,\n",
    "# ‘Jet’,\n",
    "# ‘Picnic’,\n",
    "# ‘Portland’,\n",
    "# ‘Rainbow’,\n",
    "# ‘RdBu’,\n",
    "# ‘Reds’,\n",
    "# ‘Viridis’,\n",
    "# ‘YlGnBu’,\n",
    "# ‘YlOrRd’]    \n",
    "    \n",
    "data = [\n",
    "    go.Surface(\n",
    "        z=-h_data, \n",
    "        colorscale='Jet',\n",
    "        showscale=False, \n",
    "        opacity=0.5,\n",
    "        contours=go.surface.Contours(\n",
    "            z=go.surface.contours.Z(\n",
    "              show=True,\n",
    "              usecolormap=True,\n",
    "              project=dict(z=True)\n",
    "            )\n",
    "        )\n",
    "    ),\n",
    "    \n",
    "    go.Surface(\n",
    "        z=z_data, \n",
    "        colorscale='Portland',\n",
    "        showscale=False, \n",
    "        opacity=0.8,\n",
    "        contours=go.surface.Contours(\n",
    "            z=go.surface.contours.Z(\n",
    "              show=True,\n",
    "              usecolormap=True,\n",
    "              project=dict(z=True)\n",
    "            )\n",
    "        )\n",
    "    ),\n",
    "    \n",
    "]\n",
    "layout = go.Layout(\n",
    "    title='Water level',\n",
    "    autosize=False,\n",
    "    scene=dict(\n",
    "        camera=dict(eye=dict(x=0, y=0, z=3)),\n",
    "#         xaxis = dict(\n",
    "#             range = [0,dimx],),\n",
    "#         yaxis = dict(\n",
    "#             range = [0,dimy],),\n",
    "#         zaxis = dict(\n",
    "#             range = [-1,1],),\n",
    "    ),\n",
    "    width=800,\n",
    "    height=800,\n",
    "    margin=dict(\n",
    "        l=50,\n",
    "        r=50,\n",
    "        b=50,\n",
    "        t=50\n",
    "    ),\n",
    "    \n",
    ")\n",
    "\n",
    "\n",
    "fig = go.Figure(data=data, layout=layout)\n",
    "py.iplot(fig, filename='Renderer', showscale=False, colorscale='Greens')\n"
   ]
  },
  {
   "cell_type": "code",
   "execution_count": 46,
   "metadata": {},
   "outputs": [],
   "source": [
    "# import plotly.plotly as py\n",
    "# import plotly.graph_objs as go\n",
    "\n",
    "# import pandas as pd\n",
    "\n",
    "# # Read data from a csv\n",
    "# z_data = pd.read_csv('https://raw.githubusercontent.com/plotly/datasets/master/api_docs/mt_bruno_elevation.csv')\n",
    "\n",
    "# data = [\n",
    "#     go.Surface(\n",
    "#         z=z_data.values\n",
    "#     )\n",
    "# ]\n",
    "# layout = go.Layout(\n",
    "#     title='Mt Bruno Elevation',\n",
    "#     autosize=False,\n",
    "#     width=500,\n",
    "#     height=500,\n",
    "#     margin=dict(\n",
    "#         l=65,\n",
    "#         r=50,\n",
    "#         b=65,\n",
    "#         t=90\n",
    "#     )\n",
    "# )\n",
    "# fig = go.Figure(data=data, layout=layout)\n",
    "# py.iplot(fig, filename='elevations-3d-surface')"
   ]
  },
  {
   "cell_type": "code",
   "execution_count": 47,
   "metadata": {},
   "outputs": [],
   "source": [
    "# z_data.values.dtype"
   ]
  },
  {
   "cell_type": "code",
   "execution_count": null,
   "metadata": {},
   "outputs": [],
   "source": []
  },
  {
   "cell_type": "code",
   "execution_count": null,
   "metadata": {},
   "outputs": [],
   "source": []
  },
  {
   "cell_type": "code",
   "execution_count": null,
   "metadata": {},
   "outputs": [],
   "source": []
  }
 ],
 "metadata": {
  "kernelspec": {
   "display_name": "Python 3",
   "language": "python",
   "name": "python3"
  },
  "language_info": {
   "codemirror_mode": {
    "name": "ipython",
    "version": 3
   },
   "file_extension": ".py",
   "mimetype": "text/x-python",
   "name": "python",
   "nbconvert_exporter": "python",
   "pygments_lexer": "ipython3",
   "version": "3.6.5"
  }
 },
 "nbformat": 4,
 "nbformat_minor": 2
}
