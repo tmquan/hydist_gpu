{
 "cells": [
  {
   "cell_type": "markdown",
   "metadata": {},
   "source": [
    "# Bài toán thủy lực 2D\n",
    "\n",
    "## Sai phân hóa hệ phương trình Reynolds\n",
    "Viết lại hệ phương trình Reynolds\n",
    "\n",
    "$$\n",
    "\\frac{{\\partial u}}{{\\partial t}} + u\\frac{{\\partial u}}{{\\partial x}} + v\\frac{{\\partial u}}{{\\partial y}} - fv =  - g\\frac{{\\partial \\zeta }}{{\\partial x}} + \\frac{{{\\tau _{sx}}}}{{\\rho \\left( {h + \\zeta } \\right)}} - Ku\\frac{{\\sqrt {{u^2} + {v^2}} }}{{h + \\zeta }} + A{\\nabla ^2}u$$\n",
    "\n",
    "$$\n",
    "\\frac{{\\partial v}}{{\\partial t}} + u\\frac{{\\partial u}}{{\\partial x}} + v\\frac{{\\partial u}}{{\\partial y}} + fu =  - g\\frac{{\\partial \\zeta }}{{\\partial y}} + \\frac{{{\\tau _{sy}}}}{{\\rho \\left( {h + \\zeta } \\right)}} - Kv\\frac{{\\sqrt {{u^2} + {v^2}} }}{{h + \\zeta }} + A{\\nabla ^2}v$$\n",
    "\n",
    "$$\n",
    "\\frac{{\\partial \\zeta }}{{\\partial t}} + \\frac{\\partial }{{\\partial x}}\\left[ {\\left( {h + \\zeta } \\right)u} \\right] + \\frac{\\partial }{{\\partial y}}\\left[ {\\left( {h + \\zeta } \\right)v} \\right] = 0$$"
   ]
  },
  {
   "cell_type": "code",
   "execution_count": null,
   "metadata": {
    "collapsed": true
   },
   "outputs": [],
   "source": [
    "\n"
   ]
  }
 ],
 "metadata": {
  "kernelspec": {
   "display_name": "Python 2",
   "language": "python",
   "name": "python2"
  },
  "language_info": {
   "codemirror_mode": {
    "name": "ipython",
    "version": 2
   },
   "file_extension": ".py",
   "mimetype": "text/x-python",
   "name": "python",
   "nbconvert_exporter": "python",
   "pygments_lexer": "ipython2",
   "version": "2.7.12"
  },
  "latex_envs": {
   "LaTeX_envs_menu_present": true,
   "autocomplete": true,
   "bibliofile": "biblio.bib",
   "cite_by": "apalike",
   "current_citInitial": 1,
   "eqLabelWithNumbers": true,
   "eqNumInitial": 1,
   "hotkeys": {
    "equation": "Ctrl-E",
    "itemize": "Ctrl-I"
   },
   "labels_anchors": false,
   "latex_user_defs": false,
   "report_style_numbering": false,
   "user_envs_cfg": false
  }
 },
 "nbformat": 4,
 "nbformat_minor": 2
}
