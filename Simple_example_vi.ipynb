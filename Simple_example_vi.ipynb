{
 "cells": [
  {
   "cell_type": "markdown",
   "metadata": {},
   "source": [
    "# Bài toán thủy lực 2D\n",
    "\n",
    "## Sai phân hóa hệ phương trình Reynolds\n",
    "Viết lại hệ phương trình Reynolds\n",
    "\n",
    "$$\n",
    "\\frac{{\\partial u}}{{\\partial t}} + u\\frac{{\\partial u}}{{\\partial x}} + v\\frac{{\\partial u}}{{\\partial y}} - fv =  - g\\frac{{\\partial z }}{{\\partial x}} + \\frac{{{\\tau _{sx}}}}{{\\rho \\left( {h + z } \\right)}} - Ku\\frac{{\\sqrt {{u^2} + {v^2}} }}{{h + z }} + A{\\nabla ^2}u$$\n",
    "\n",
    "$$\n",
    "\\frac{{\\partial v}}{{\\partial t}} + u\\frac{{\\partial u}}{{\\partial x}} + v\\frac{{\\partial u}}{{\\partial y}} + fu =  - g\\frac{{\\partial z}}{{\\partial y}} + \\frac{{{\\tau _{sy}}}}{{\\rho \\left( {h + z } \\right)}} - Kv\\frac{{\\sqrt {{u^2} + {v^2}} }}{{h + z }} + A{\\nabla ^2}v$$\n",
    "\n",
    "$$\n",
    "\\frac{{\\partial z }}{{\\partial t}} + \\frac{\\partial }{{\\partial x}}\\left[ {\\left( {h + z } \\right)u} \\right] + \\frac{\\partial }{{\\partial y}}\\left[ {\\left( {h + z } \\right)v} \\right] = 0$$"
   ]
  },
  {
   "cell_type": "code",
   "execution_count": 1,
   "metadata": {
    "collapsed": true
   },
   "outputs": [],
   "source": [
    "# Import necessary package\n",
    "import numpy as np\n",
    "import matplotlib.pyplot as plt\n",
    "%matplotlib inline  "
   ]
  },
  {
   "cell_type": "markdown",
   "metadata": {},
   "source": [
    "Khai báo lưới gồm có 101 nút ngang, 101 nút dọc, đồng nghĩa với 100 ô ngang và 100 ô dọc"
   ]
  },
  {
   "cell_type": "code",
   "execution_count": 12,
   "metadata": {
    "collapsed": true
   },
   "outputs": [],
   "source": [
    "# Common configuration\n",
    "DIMX = 101\n",
    "DIMY = 7\n",
    "\n",
    "dx = 1.0 # Stepsize for x\n",
    "dy = 1.0 # Stepsize for y"
   ]
  },
  {
   "cell_type": "code",
   "execution_count": 13,
   "metadata": {
    "collapsed": true
   },
   "outputs": [],
   "source": [
    "dt = 0.1\n",
    "T_MAX = 2000\n"
   ]
  },
  {
   "cell_type": "code",
   "execution_count": 14,
   "metadata": {
    "collapsed": true
   },
   "outputs": [],
   "source": [
    "# Special conditions\n",
    "f = 0\n",
    "g = 9.81 \n",
    "tau_sx = 0\n",
    "tau_sy = 0\n",
    "K = 0\n",
    "A = 0"
   ]
  },
  {
   "cell_type": "code",
   "execution_count": 15,
   "metadata": {},
   "outputs": [
    {
     "name": "stdout",
     "output_type": "stream",
     "text": [
      "(7, 101)\n",
      "(6, 100)\n"
     ]
    },
    {
     "data": {
      "text/plain": [
       "<matplotlib.image.AxesImage at 0x7f45fe2b5a10>"
      ]
     },
     "execution_count": 15,
     "metadata": {},
     "output_type": "execute_result"
    },
    {
     "data": {
      "image/png": "[encoded data removed]",
      "text/plain": [
       "<matplotlib.figure.Figure at 0x7f45fe459cd0>"
      ]
     },
     "metadata": {},
     "output_type": "display_data"
    }
   ],
   "source": [
    "nodes = np.zeros((DIMY-0, DIMX-0), dtype=np.float32)\n",
    "cents = np.zeros((DIMY-1, DIMX-1), dtype=np.float32)\n",
    "\n",
    "print nodes.shape\n",
    "print cents.shape\n",
    "\n",
    "plt.imshow(cents)"
   ]
  },
  {
   "cell_type": "code",
   "execution_count": 16,
   "metadata": {},
   "outputs": [
    {
     "name": "stdout",
     "output_type": "stream",
     "text": [
      "(7, 101)\n"
     ]
    }
   ],
   "source": [
    "# Declare the field of h: depth\n",
    "h = np.ones_like(nodes)\n",
    "print h.shape"
   ]
  },
  {
   "cell_type": "code",
   "execution_count": 17,
   "metadata": {},
   "outputs": [
    {
     "name": "stdout",
     "output_type": "stream",
     "text": [
      "(6, 101)\n",
      "(7, 100)\n",
      "(6, 100)\n"
     ]
    }
   ],
   "source": [
    "# Declare the field of u and v:\n",
    "u = np.zeros((DIMY-1, DIMX-0), dtype=np.float32)\n",
    "v = np.zeros((DIMY-0, DIMX-1), dtype=np.float32)\n",
    "print u.shape\n",
    "print v.shape\n",
    "\n",
    "# Declare the field of zeta: surface elevation (original point is at static surface)\n",
    "z = np.zeros_like(cents)\n",
    "print z.shape"
   ]
  },
  {
   "cell_type": "code",
   "execution_count": 18,
   "metadata": {},
   "outputs": [
    {
     "name": "stdout",
     "output_type": "stream",
     "text": [
      "(6, 100)\n",
      "(6, 100)\n",
      "(6, 100)\n",
      "(6, 100)\n"
     ]
    }
   ],
   "source": [
    "a1 = np.zeros_like(z)\n",
    "b1 = np.zeros_like(z)\n",
    "c1 = np.zeros_like(z)\n",
    "d1 = np.zeros_like(z)\n",
    "print a1.shape\n",
    "print b1.shape\n",
    "print c1.shape\n",
    "print d1.shape"
   ]
  },
  {
   "cell_type": "code",
   "execution_count": 19,
   "metadata": {},
   "outputs": [],
   "source": [
    "# Initial conditions:\n",
    "u = np.zeros_like(u, dtype=np.float32)\n",
    "v = np.zeros_like(v, dtype=np.float32)\n",
    "\n",
    "z = np.zeros_like(z, dtype=np.float32)\n",
    "h = np.ones_like(h, dtype=np.float32)"
   ]
  },
  {
   "cell_type": "code",
   "execution_count": 20,
   "metadata": {
    "collapsed": true
   },
   "outputs": [],
   "source": [
    "# Predefine the period T\n",
    "T = 31.927 # Unit: second"
   ]
  },
  {
   "cell_type": "code",
   "execution_count": 21,
   "metadata": {},
   "outputs": [
    {
     "name": "stdout",
     "output_type": "stream",
     "text": [
      "0.196798487399\n"
     ]
    }
   ],
   "source": [
    "# Compute the omega\n",
    "Omega = 2*np.pi/T\n",
    "print Omega"
   ]
  },
  {
   "cell_type": "code",
   "execution_count": 22,
   "metadata": {},
   "outputs": [
    {
     "name": "stdout",
     "output_type": "stream",
     "text": [
      "100.0\n"
     ]
    }
   ],
   "source": [
    "Lambda = 100*dx # Unit: meter\n",
    "print Lambda"
   ]
  },
  {
   "cell_type": "code",
   "execution_count": 23,
   "metadata": {},
   "outputs": [
    {
     "name": "stdout",
     "output_type": "stream",
     "text": [
      "0.01\n"
     ]
    }
   ],
   "source": [
    "# Magnitude of z\n",
    "Z0 = 0.01\n",
    "print Z0"
   ]
  },
  {
   "cell_type": "code",
   "execution_count": 24,
   "metadata": {},
   "outputs": [
    {
     "name": "stdout",
     "output_type": "stream",
     "text": [
      "3.13209195267\n"
     ]
    }
   ],
   "source": [
    "# Compute the C0: wave velocity in static fluid\n",
    "C0 = np.sqrt(g) #h = 1 meter\n",
    "print C0"
   ]
  },
  {
   "cell_type": "code",
   "execution_count": 25,
   "metadata": {},
   "outputs": [
    {
     "name": "stdout",
     "output_type": "stream",
     "text": [
      "0.0628318530718\n"
     ]
    }
   ],
   "source": [
    "# Number of waves\n",
    "k = 2*np.pi/Lambda\n",
    "print k"
   ]
  },
  {
   "cell_type": "code",
   "execution_count": 26,
   "metadata": {},
   "outputs": [
    {
     "name": "stdout",
     "output_type": "stream",
     "text": [
      "(6, 100)\n",
      "(6, 101)\n",
      "(7, 100)\n"
     ]
    }
   ],
   "source": [
    "# Boundary conditions: opened or closed boundary\n",
    "boundary_left  = 'OPENED' # \n",
    "boundary_right = 'CLOSED'\n",
    "boundary_up    = 'CLOSED'\n",
    "boundary_down  = 'CLOSED'\n",
    "\n",
    "print z.shape\n",
    "print u.shape # u đánh số từ 0.5 đến 100.5, tương ứng trong code là 0 đến 100\n",
    "print v.shape"
   ]
  },
  {
   "cell_type": "code",
   "execution_count": 27,
   "metadata": {},
   "outputs": [],
   "source": [
    "# Initially, \n",
    "t0=0\n",
    "\n",
    "def zeta(Z0, x, t):\n",
    "    return Z0 * np.cos(Omega*t) * np.cos(k*x) \n",
    "\n",
    "# z bên trái\n",
    "z[:,0] = np.nan\n",
    "z[:,1] = zeta(Z0, x=dx/2, t=t0+dt/2) # dx = 1.0, \n",
    "\n",
    "# u bên phải\n",
    "u[:,-1] = 0\n",
    "\n",
    "# v dưới = 0\n",
    "v[ 0,:] = 0\n",
    "\n",
    "# v trên = 0\n",
    "v[-1,:] = 0\n"
   ]
  },
  {
   "cell_type": "code",
   "execution_count": 28,
   "metadata": {},
   "outputs": [
    {
     "name": "stdout",
     "output_type": "stream",
     "text": [
      "Demo.ipynb  README.md  Simple_example_vi.ipynb\r\n"
     ]
    }
   ],
   "source": [
    "ls"
   ]
  },
  {
   "cell_type": "code",
   "execution_count": 29,
   "metadata": {},
   "outputs": [
    {
     "name": "stdout",
     "output_type": "stream",
     "text": [
      "(6, 101)\n"
     ]
    },
    {
     "name": "stderr",
     "output_type": "stream",
     "text": [
      "/usr/local/lib/python2.7/dist-packages/ipykernel_launcher.py:26: RuntimeWarning: invalid value encountered in divide\n"
     ]
    }
   ],
   "source": [
    "# Định nghĩa f1, f2, f3, f4, f5, f6, f7, f8\n",
    "# Giải nửa bước thời gian đầu: t = t0+dt/2\n",
    "f1 = np.zeros_like(u)\n",
    "f1 = dt/(2*dx) * u + A*dt/(dx*dx)\n",
    "# print f1.shape\n",
    "\n",
    "# tính v trung bình v_bar\n",
    "\n",
    "# Tính h_bar\n",
    "h_bar = np.zeros_like(u, dtype=np.float32)\n",
    "for j in range(0, DIMY-1):\n",
    "    for i in range(0, DIMX-2):\n",
    "        h_bar[j, i] = 0.50 * (h[j,i] + h[j-1,i])\n",
    "\n",
    "# Tính z_bar\n",
    "z_bar = np.zeros_like(u, dtype=np.float32)\n",
    "for j in range(0, DIMY-1):\n",
    "    for i in range(0, DIMX-2):\n",
    "        z_bar[j, i] = 0.50 * (z[j,i+1] + z[j,i])\n",
    "        \n",
    "# Tính v_bar\n",
    "v_bar = np.zeros_like(u, dtype=np.float32)\n",
    "for j in range(0, DIMY-1):\n",
    "    for i in range(0, DIMX-2):\n",
    "        v_bar[j, i] = 0.25*( v[j+0, i+1] + v[j-1, i+1] + v[j+0, i+0] + v[j-1, i+0] )\n",
    "f2 = -(2 + K*dt * (np.sqrt(np.square(u)+np.square(v_bar)))/(h_bar + z_bar) \\\n",
    "                + (2*dt*A)/(np.square(dx)))\n",
    "print f2.shape"
   ]
  },
  {
   "cell_type": "code",
   "execution_count": 30,
   "metadata": {},
   "outputs": [
    {
     "name": "stdout",
     "output_type": "stream",
     "text": [
      "0.196798487399\n",
      "0.0628318530718\n",
      "1.0\n",
      "0.1\n"
     ]
    },
    {
     "ename": "NameError",
     "evalue": "name 'z_total' is not defined",
     "output_type": "error",
     "traceback": [
      "\u001b[0;31m---------------------------------------------------------------------------\u001b[0m",
      "\u001b[0;31mNameError\u001b[0m                                 Traceback (most recent call last)",
      "\u001b[0;32m<ipython-input-30-286e9f67af2c>\u001b[0m in \u001b[0;36m<module>\u001b[0;34m()\u001b[0m\n\u001b[1;32m      3\u001b[0m \u001b[0;32mprint\u001b[0m \u001b[0mdx\u001b[0m\u001b[0;34m\u001b[0m\u001b[0m\n\u001b[1;32m      4\u001b[0m \u001b[0;32mprint\u001b[0m \u001b[0mdt\u001b[0m\u001b[0;34m\u001b[0m\u001b[0m\n\u001b[0;32m----> 5\u001b[0;31m \u001b[0;32mprint\u001b[0m \u001b[0mlen\u001b[0m\u001b[0;34m(\u001b[0m\u001b[0mz_total\u001b[0m\u001b[0;34m)\u001b[0m\u001b[0;34m\u001b[0m\u001b[0m\n\u001b[0m\u001b[1;32m      6\u001b[0m \u001b[0;32mprint\u001b[0m \u001b[0mlen\u001b[0m\u001b[0;34m(\u001b[0m\u001b[0mt_total\u001b[0m\u001b[0;34m)\u001b[0m\u001b[0;34m\u001b[0m\u001b[0m\n",
      "\u001b[0;31mNameError\u001b[0m: name 'z_total' is not defined"
     ]
    }
   ],
   "source": [
    "print Omega\n",
    "print k\n",
    "print dx\n",
    "print dt\n",
    "print len(z_total)\n",
    "print len(t_total)"
   ]
  },
  {
   "cell_type": "code",
   "execution_count": 31,
   "metadata": {},
   "outputs": [
    {
     "data": {
      "text/plain": [
       "[<matplotlib.lines.Line2D at 0x7f4669995810>]"
      ]
     },
     "execution_count": 31,
     "metadata": {},
     "output_type": "execute_result"
    },
    {
     "data": {
      "image/png": "[encoded data removed]",
      "text/plain": [
       "<matplotlib.figure.Figure at 0x7f45fe2b0a90>"
      ]
     },
     "metadata": {},
     "output_type": "display_data"
    }
   ],
   "source": [
    "num  = np.floor(3*T/(dt/2)).astype(np.int32)\n",
    "z_total = []\n",
    "t_total = []\n",
    "new_t=0\n",
    "for step in range(num):\n",
    "    new_z = zeta(Z0, dx/2, new_t)\n",
    "    z_total.append(new_z)\n",
    "    t_total.append(new_t)\n",
    "    new_t = new_t + dt/2\n",
    "    \n",
    "    \n",
    "plt.figure()\n",
    "plt.plot(t_total, z_total)"
   ]
  },
  {
   "cell_type": "code",
   "execution_count": 36,
   "metadata": {},
   "outputs": [
    {
     "data": {
      "text/plain": [
       "[(0, 0), (1, 1), (2, 2)]"
      ]
     },
     "execution_count": 36,
     "metadata": {},
     "output_type": "execute_result"
    }
   ],
   "source": [
    "zip(range(3), range(3))"
   ]
  },
  {
   "cell_type": "code",
   "execution_count": null,
   "metadata": {
    "collapsed": true
   },
   "outputs": [],
   "source": []
  }
 ],
 "metadata": {
  "kernelspec": {
   "display_name": "Python 2",
   "language": "python",
   "name": "python2"
  },
  "language_info": {
   "codemirror_mode": {
    "name": "ipython",
    "version": 2
   },
   "file_extension": ".py",
   "mimetype": "text/x-python",
   "name": "python",
   "nbconvert_exporter": "python",
   "pygments_lexer": "ipython2",
   "version": "2.7.12"
  },
  "latex_envs": {
   "LaTeX_envs_menu_present": true,
   "autocomplete": true,
   "bibliofile": "biblio.bib",
   "cite_by": "apalike",
   "current_citInitial": 1,
   "eqLabelWithNumbers": true,
   "eqNumInitial": 1,
   "hotkeys": {
    "equation": "Ctrl-E",
    "itemize": "Ctrl-I"
   },
   "labels_anchors": false,
   "latex_user_defs": false,
   "report_style_numbering": false,
   "user_envs_cfg": false
  }
 },
 "nbformat": 4,
 "nbformat_minor": 2
}
